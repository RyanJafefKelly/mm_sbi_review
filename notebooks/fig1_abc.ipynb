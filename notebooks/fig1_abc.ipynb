{
 "cells": [
  {
   "cell_type": "code",
   "execution_count": 1,
   "metadata": {},
   "outputs": [],
   "source": [
    "import matplotlib.pyplot as plt\n",
    "import numpy as np\n",
    "import jax\n",
    "import jax.numpy as jnp\n",
    "from jax import random as random\n",
    "from scipy.stats import gaussian_kde\n",
    "\n",
    "from mm_sbi_review.examples.misspec_ma1 import assumed_dgp, calculate_summary_statistics, true_dgp"
   ]
  },
  {
   "cell_type": "code",
   "execution_count": 2,
   "metadata": {},
   "outputs": [],
   "source": [
    "np.random.seed(0)\n",
    "key = random.PRNGKey(0)\n",
    "num_sims = 1_000_000\n",
    "\n",
    "# Generate random parameter values t1 in [-1, 1]\n",
    "t1 = np.random.uniform(-1, 1, size=num_sims)\n",
    "\n",
    "# Initialize an array to store summary statistics\n",
    "ssx = np.zeros((num_sims, 2))\n",
    "\n",
    "# Simulate data and calculate summary statistics\n",
    "for i in range(num_sims):\n",
    "    key, subkey = random.split(key)\n",
    "    data = assumed_dgp(subkey, t1[i])  # assumed_dgp function should accept t1[i]\n",
    "    ssx[i] = calculate_summary_statistics(data)\n",
    "\n",
    "# Calculate summary statistics for true data\n",
    "key, subkey = random.split(key)\n",
    "ssy = calculate_summary_statistics(true_dgp(subkey))\n",
    "\n",
    "# Compute Euclidean distances between ssx and ssy\n",
    "distances = np.linalg.norm(ssx - ssy, axis=1)\n",
    "\n",
    "# Find indices of the closest 10% and 1% simulations\n",
    "num_eps10 = int(num_sims * 0.10)\n",
    "num_eps01 = int(num_sims * 0.01)\n",
    "\n",
    "sorted_indices = np.argsort(distances)\n",
    "eps10_idx = sorted_indices[:num_eps10]\n",
    "eps01_idx = sorted_indices[:num_eps01]\n",
    "\n",
    "# Extract the corresponding summary statistics and t1 values\n",
    "ssx_eps10 = ssx[eps10_idx]\n",
    "t1_eps10 = t1[eps10_idx]\n",
    "\n",
    "ssx_eps01 = ssx[eps01_idx]\n",
    "t1_eps01 = t1[eps01_idx]\n"
   ]
  },
  {
   "cell_type": "code",
   "execution_count": 33,
   "metadata": {},
   "outputs": [
    {
     "data": {
      "text/plain": [
       "<Figure size 800x600 with 0 Axes>"
      ]
     },
     "metadata": {},
     "output_type": "display_data"
    },
    {
     "data": {
      "text/plain": [
       "<Figure size 800x600 with 0 Axes>"
      ]
     },
     "metadata": {},
     "output_type": "display_data"
    }
   ],
   "source": [
    "plt.rcParams.update({'font.size': 24})\n",
    "\n",
    "# Define b_theta function\n",
    "def b_theta(t):\n",
    "    return np.array([1 + t ** 2, t])\n",
    "\n",
    "# Generate values for b_theta\n",
    "t_vals = np.linspace(-1, 1, 101)\n",
    "b_theta_vals = np.array([b_theta(t) for t in t_vals])\n",
    "\n",
    "# Plot the summary statistics\n",
    "plt.figure(figsize=(8, 6))\n",
    "plt.scatter(ssx[::1000, 1], ssx[::1000, 0], c='blue', alpha=0.1)\n",
    "plt.scatter(ssx_eps10[::100, 1], ssx_eps10[::100, 0], c='red', alpha=0.5, label='Closest 10%')\n",
    "plt.scatter(ssx_eps01[::10, 1], ssx_eps01[::10, 0], c='green', alpha=0.5, label='Closest 1%')\n",
    "plt.scatter(ssy[1], ssy[0], c='black', marker='x', s=100, label='S(y)')\n",
    "plt.plot(b_theta_vals[:, 1], b_theta_vals[:, 0], color='orange', label=r'$b(\\theta)$', linewidth=6)\n",
    "\n",
    "plt.xlim(-2.0, 2.0)\n",
    "plt.ylim(-0.5, 2.5)\n",
    "plt.xticks([-2, 0, 2])\n",
    "plt.yticks([-0.5, 1, 2.5])\n",
    "plt.xlabel(r'$\\zeta_1$')\n",
    "plt.ylabel(r'$\\zeta_2$')\n",
    "# plt.title('Summary Statistics and ABC Results')\n",
    "plt.legend(fontsize=17)\n",
    "plt.tight_layout()\n",
    "plt.savefig(\"figs/fig1a.pdf\")\n",
    "plt.clf()\n",
    "\n",
    "# Kernel Density Estimation for t1_eps10 and t1_eps01\n",
    "kde_eps10 = gaussian_kde(t1_eps10)\n",
    "kde_eps01 = gaussian_kde(t1_eps01)\n",
    "t1_range = np.linspace(-1, 1, 101)\n",
    "kde_eps10_vals = kde_eps10(t1_range)\n",
    "kde_eps01_vals = kde_eps01(t1_range)\n",
    "\n",
    "# Plot the KDEs\n",
    "plt.figure(figsize=(8, 6))\n",
    "plt.plot(t1_range, kde_eps10_vals, label='Closest 10%', color='red')\n",
    "plt.plot(t1_range, kde_eps01_vals, label='Closest 1%', color='green')\n",
    "plt.axvline(x=0, color='black', linestyle='--', label='Pseudo-true θ')\n",
    "plt.xlabel(r'$\\theta$')\n",
    "plt.ylabel('Density')\n",
    "# plt.title('Kernel Density Estimation of $\\theta$')\n",
    "plt.legend(fontsize=18)\n",
    "plt.tight_layout()\n",
    "plt.savefig(\"figs/fig1b_kde.pdf\")\n",
    "plt.clf()\n"
   ]
  },
  {
   "cell_type": "code",
   "execution_count": 24,
   "metadata": {},
   "outputs": [
    {
     "data": {
      "image/png": "[encoded data removed]",
      "text/plain": [
       "<Figure size 640x480 with 1 Axes>"
      ]
     },
     "metadata": {},
     "output_type": "display_data"
    }
   ],
   "source": [
    "_, bins, _ = plt.hist(t1_eps10, density=True, bins=50, alpha=0.5, label='Closest 10%', color='red')\n",
    "plt.hist(np.repeat(t1_eps01, 10), density=True, bins=bins, alpha=0.5,  label='Closest 1%', color='green')\n",
    "plt.axvline(x=0, color='black', linestyle='--', label='Pseudo-true θ')\n",
    "\n",
    "plt.xlabel(r'$\\theta$')\n",
    "plt.ylabel('Density')\n",
    "plt.xticks([-1, 0, 1])\n",
    "plt.xlim(-1, 1)\n",
    "plt.legend(fontsize=13)\n",
    "plt.tight_layout()\n",
    "plt.savefig(\"figs/fig1b.pdf\")\n"
   ]
  },
  {
   "cell_type": "code",
   "execution_count": 5,
   "metadata": {},
   "outputs": [],
   "source": [
    "import pickle as pkl\n",
    "\n",
    "with open(\"t1_eps01_abc.pkl\", \"wb\") as f:\n",
    "    pkl.dump(t1_eps01, f)"
   ]
  }
 ],
 "metadata": {
  "kernelspec": {
   "display_name": ".venv",
   "language": "python",
   "name": "python3"
  },
  "language_info": {
   "codemirror_mode": {
    "name": "ipython",
    "version": 3
   },
   "file_extension": ".py",
   "mimetype": "text/x-python",
   "name": "python",
   "nbconvert_exporter": "python",
   "pygments_lexer": "ipython3",
   "version": "3.11.5"
  }
 },
 "nbformat": 4,
 "nbformat_minor": 2
}
