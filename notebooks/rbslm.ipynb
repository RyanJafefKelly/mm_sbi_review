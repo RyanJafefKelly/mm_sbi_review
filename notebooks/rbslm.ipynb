{
 "cells": [
  {
   "cell_type": "code",
   "execution_count": 1,
   "metadata": {},
   "outputs": [],
   "source": [
    "import numpy as np\n",
    "import scipy.stats as ss\n",
    "import matplotlib.pyplot as plt\n",
    "import time\n",
    "\n",
    "import elfi\n"
   ]
  },
  {
   "cell_type": "code",
   "execution_count": 2,
   "metadata": {},
   "outputs": [],
   "source": [
    "from functools import partial\n",
    "\n",
    "import numpy as np\n",
    "\n",
    "import elfi\n",
    "\n",
    "\n",
    "def MA1(t1, n_obs=100, batch_size=1, random_state=None):\n",
    "    r\"\"\"Generate a sequence of samples from the MA1 model.\n",
    "\n",
    "    The sequence is a moving average\n",
    "\n",
    "        x_i = w_i + \\theta_1 w_{i-1}\n",
    "\n",
    "    where w_i are white noise ~ N(0,1).\n",
    "\n",
    "    Parameters\n",
    "    ----------\n",
    "    t1 : float, array_like\n",
    "    n_obs : int, optional\n",
    "    batch_size : int, optional\n",
    "    random_state : RandomState, optional\n",
    "\n",
    "    \"\"\"\n",
    "    # Make inputs 2d arrays for broadcasting with w\n",
    "    t1 = np.asanyarray(t1).reshape((-1, 1))\n",
    "\n",
    "    random_state = random_state or np.random\n",
    "\n",
    "    # i.i.d. sequence ~ N(0,1)\n",
    "    w = random_state.randn(batch_size, n_obs + 2)\n",
    "    x = w[:, 2:] + t1 * w[:, 1:-1]\n",
    "    return x.reshape((batch_size, -1))  # ensure 2D\n",
    "\n",
    "\n",
    "def stochastic_volatility(w=-0.736,\n",
    "                          rho=0.9,\n",
    "                          sigma_v=0.36,\n",
    "                          n_obs=100,\n",
    "                          batch_size=1,\n",
    "                          random_state=None):\n",
    "    \"\"\"Sample for a stochastic volatility model.\n",
    "\n",
    "    specified in Frazier and Drovandi (2021). This is the true Data\n",
    "    Generating Process for this example.\n",
    "    Uses a normally distributed shock term.\n",
    "\n",
    "    Parameters\n",
    "    ----------\n",
    "    w : float, optional\n",
    "    rho : float, optional\n",
    "    sigma_v : float, optional\n",
    "    n_obs : int, optional\n",
    "    batch_size : int, optional\n",
    "    random_state : RandomState, optional\n",
    "\n",
    "    Returns\n",
    "    -------\n",
    "    y_mat : np.array\n",
    "\n",
    "    \"\"\"\n",
    "    random_state = random_state or np.random\n",
    "\n",
    "    h_mat = np.zeros((batch_size, n_obs))\n",
    "    y_mat = np.zeros((batch_size, n_obs))\n",
    "\n",
    "    w_vec = np.repeat(w, batch_size)\n",
    "    rho_vec = np.repeat(rho, batch_size)\n",
    "    sigma_v_vec = np.repeat(sigma_v, batch_size)\n",
    "\n",
    "    h_mat[:, 0] = w_vec + random_state.normal(0, 1, batch_size) * sigma_v_vec\n",
    "    y_mat[:, 0] = np.exp(h_mat[:, 0]/2) * random_state.normal(0, 1, batch_size)\n",
    "\n",
    "    for i in range(n_obs - 1):\n",
    "        h_mat[:, i] = w_vec + rho_vec * h_mat[:, i-1] + \\\n",
    "            random_state.normal(0, 1, batch_size) * sigma_v_vec\n",
    "        y_mat[:, i] = np.exp(h_mat[:, i]/2)*random_state.normal(0, 1, batch_size)\n",
    "\n",
    "    return y_mat.reshape((batch_size, -1))  # ensure 2d\n",
    "\n",
    "\n",
    "def autocov(x, lag=0):\n",
    "    \"\"\"Return the autocovariance.\n",
    "\n",
    "    Assumes a (weak) univariate stationary process with mean 0.\n",
    "    Realizations are in rows.\n",
    "\n",
    "    Parameters\n",
    "    ----------\n",
    "    x : np.array of size (n, m)\n",
    "    lag : int, optional\n",
    "\n",
    "    Returns\n",
    "    -------\n",
    "    C : np.array of size (n,)\n",
    "\n",
    "    \"\"\"\n",
    "    x = np.atleast_2d(x)\n",
    "    # In R this is normalized with x.shape[1]\n",
    "    if lag == 0:\n",
    "        C = np.mean(x[:, :] ** 2, axis=1)\n",
    "    else:\n",
    "        C = np.mean(x[:, lag:] * x[:, :-lag], axis=1)\n",
    "\n",
    "    return C\n",
    "\n",
    "\n",
    "def get_model(n_obs=50, true_params=None, seed_obs=None):\n",
    "    \"\"\"Return a complete misspecified MA1 model in inference task.\n",
    "\n",
    "    Parameters\n",
    "    ----------\n",
    "    n_obs : int, optional\n",
    "        observation length of the MA2 process\n",
    "    true_params : list, optional\n",
    "        parameters with which the observed data is generated\n",
    "    seed_obs : int, optional\n",
    "        seed for the observed data generation\n",
    "\n",
    "    Returns\n",
    "    -------\n",
    "    m : elfi.ElfiModel\n",
    "\n",
    "    \"\"\"\n",
    "    if true_params is None:\n",
    "        true_params = [-0.736, 0.9, 0.36]\n",
    "\n",
    "    y = stochastic_volatility(*true_params, n_obs=n_obs,\n",
    "                              random_state=np.random.RandomState(seed_obs))\n",
    "    sim_fn = partial(MA1, n_obs=n_obs)\n",
    "\n",
    "    m = elfi.ElfiModel()\n",
    "    elfi.Prior('uniform', -1, 2, model=m, name='t1')\n",
    "    elfi.Simulator(sim_fn, m['t1'], observed=y, name='MA1')\n",
    "    elfi.Summary(autocov, m['MA1'], name='S1')\n",
    "    elfi.Summary(autocov, m['MA1'], 1, name='S2')\n",
    "\n",
    "    return m"
   ]
  },
  {
   "cell_type": "code",
   "execution_count": 3,
   "metadata": {},
   "outputs": [],
   "source": [
    "from elfi.methods.bsl import pre_sample_methods, pdf_methods\n"
   ]
  },
  {
   "cell_type": "code",
   "execution_count": 4,
   "metadata": {},
   "outputs": [],
   "source": [
    "from mm_sbi_review.examples.misspec_ma1 import assumed_dgp, calculate_summary_statistics, true_dgp"
   ]
  },
  {
   "cell_type": "code",
   "execution_count": 5,
   "metadata": {},
   "outputs": [],
   "source": [
    "import jax.random as random"
   ]
  },
  {
   "cell_type": "code",
   "execution_count": 6,
   "metadata": {},
   "outputs": [],
   "source": [
    "# feature_names = ['S1', 'S2']\n",
    "# params = {'t1': 0.0}\n",
    "\n",
    "# nsim = 10000\n",
    "# m = get_model(n_obs=100, seed_obs=0)\n",
    "# seed = 1\n",
    "# pre_sample_methods.plot_features(m, params, nsim, feature_names, seed=seed)\n",
    "\n",
    "# likelihood = pdf_methods.robust_likelihood('mean')\n",
    "\n",
    "# nsim = [100, 300, 500]\n",
    "# std_value = pre_sample_methods.log_SL_stdev(m, params, nsim, feature_names,\n",
    "#                                             likelihood=likelihood, M=100, seed=seed)\n",
    "# std_value\n"
   ]
  },
  {
   "cell_type": "code",
   "execution_count": null,
   "metadata": {},
   "outputs": [
    {
     "name": "stdout",
     "output_type": "stream",
     "text": [
      "Progress [==================================================] 100.0% Complete\n",
      "Progress [==================================================] 100.0% Complete\n"
     ]
    },
    {
     "data": {
      "image/png": "[encoded data removed]",
      "text/plain": [
       "<Figure size 640x480 with 1 Axes>"
      ]
     },
     "metadata": {},
     "output_type": "display_data"
    }
   ],
   "source": [
    "np.random.seed(123)\n",
    "\n",
    "# true_params = [1]\n",
    "feature_names = ['S1', 'S2']\n",
    "\n",
    "# true_params = [-0.736, 0.9, 0.36]\n",
    "\n",
    "batch_size = 50\n",
    "mcmc_iters = 11000\n",
    "burn_in = 1000\n",
    "num_runs = 1\n",
    "num_params = 1\n",
    "\n",
    "res_mat_sbsl = np.zeros((mcmc_iters - burn_in, num_params, num_runs))\n",
    "res_mat_rbslm = np.zeros((mcmc_iters - burn_in, num_params, num_runs))\n",
    "res_mat_rbslv = np.zeros((mcmc_iters - burn_in, num_params, num_runs))\n",
    "\n",
    "for i in range(num_runs):\n",
    "    # tic = time.time()\n",
    "    seed = i\n",
    "    m = get_model(n_obs=100, seed_obs=i)\n",
    "    seed = 0\n",
    "    rng_key = random.PRNGKey(seed)\n",
    "    rng_key, sub_key = random.split(rng_key)\n",
    "    x_obs = true_dgp(key=sub_key, n_obs=100)\n",
    "    m.observed['MA1'] = np.array(x_obs)\n",
    "    # d = elfi.SyntheticLikelihood(\"bsl\", m['S1'], m['S2'], name=\"SL\")\n",
    "    # sbsl_batch_size = 500\n",
    "    # bsl_res = elfi.BSL(\n",
    "    #             m['SL'],\n",
    "    #             batch_size=sbsl_batch_size,\n",
    "    #             ).sample(\n",
    "    #                 mcmc_iters,\n",
    "    #                 burn_in=burn_in,\n",
    "    #                 sigma_proposals=0.1*np.eye(1),\n",
    "    #                 params0=[0]\n",
    "    #             )\n",
    "    # # print('bsl_res', bsl_res)\n",
    "    # elfi.SyntheticLikelihood(\"rbsl\", m['S1'], m['S2'],\n",
    "    #                             adjustment=\"mean\", name=\"R_BSL_M\")\n",
    "    # # bsl_res.plot_marginals(bins=30)\n",
    "    # res_mat_sbsl[:, 0, i] = bsl_res.outputs['t1']\n",
    "\n",
    "    likelihood = pdf_methods.robust_likelihood('mean')\n",
    "    nsim_round = 50\n",
    "    rbsl_m = elfi.BSL(m, nsim_round, feature_names=feature_names,\n",
    "                      likelihood=likelihood, seed=seed)\n",
    "    params0 = np.array([0])\n",
    "    est_post_cov = 0.01*np.eye(1)\n",
    "    # logit_transform_bound = [(-1, 1)]\n",
    "    res_m = rbsl_m.sample(mcmc_iters, est_post_cov, burn_in=burn_in,\n",
    "                        params0=params0, tau=1.0)\n",
    "\n",
    "    res_mat_rbslm[:, 0, i] = res_m.outputs['t1']\n",
    "\n",
    "\n",
    "    likelihood = pdf_methods.robust_likelihood('variance')\n",
    "    rbsl_v = elfi.BSL(m, nsim_round, feature_names=feature_names, likelihood=likelihood, seed=seed)\n",
    "    res_v = rbsl_v.sample(mcmc_iters, est_post_cov, burn_in=burn_in,\n",
    "                        params0=params0, tau=1.0)\n",
    "\n",
    "    res_mat_rbslv[:, 0, i] = res_v.outputs['t1']\n",
    "    # ess = bsl_res_misspec_var.compute_ess()\n",
    "    # print('ess: ', ess)\n",
    "    # bsl_res_misspec_var.plot_traces()\n",
    "    # plt.savefig(\"plot_traces_misspec.png\")\n",
    "    # bsl_res_misspec_var.plot_marginals()\n",
    "    # plt.savefig(\"plot_marginals_misspec.png\")\n",
    "    # bsl_res_misspec_var.plot_pairs()\n",
    "    # plt.savefig(\"plot_pairs_misspec.png\")\n",
    "    # res_mat_rbslv[:, 0, i] = bsl_res_misspec_var.outputs['t1']\n",
    "\n",
    "# plt.savefig(\"plot_marginals_standard_contaminated.png\")\n",
    "\n",
    "plt.rcParams.update({'font.size': 24})\n",
    "\n",
    "# plot R-BSL-M\n",
    "t1_samples_rbslm = res_mat_rbslm.flatten()\n",
    "plt.hist(t1_samples_rbslm, bins=30)\n",
    "plt.savefig(\"plot_marginals_contaminated_ma1_rbslm.pdf\")\n",
    "plt.clf()\n",
    "\n",
    "# plot R-BSL-V\n",
    "t1_samples_rbslv = res_mat_rbslv.flatten()\n",
    "plt.hist(t1_samples_rbslv, bins=30)\n",
    "plt.savefig(\"plot_marginals_contaminated_ma1_rbslv.pdf\")\n",
    "\n",
    "np.save(\"ma1_misspec_rbslm.npy\", t1_samples_rbslm)\n",
    "np.save(\"ma1_misspec_rbslv.npy\", t1_samples_rbslv)\n",
    "\n",
    "# plt.show()    \n"
   ]
  },
  {
   "cell_type": "code",
   "execution_count": 8,
   "metadata": {},
   "outputs": [
    {
     "data": {
      "text/plain": [
       "Method: BSL\n",
       "Number of samples: 10000\n",
       "Number of simulations: 544300\n",
       "MCMC Acceptance Rate: 0.499\n",
       "Parameter                Mean               2.5%              97.5%\n",
       "t1:                     0.036             -0.783              0.871\n"
      ]
     },
     "execution_count": 8,
     "metadata": {},
     "output_type": "execute_result"
    }
   ],
   "source": [
    "res_m"
   ]
  },
  {
   "cell_type": "code",
   "execution_count": 9,
   "metadata": {},
   "outputs": [
    {
     "data": {
      "text/plain": [
       "Method: BSL\n",
       "Number of samples: 10000\n",
       "Number of simulations: 546700\n",
       "MCMC Acceptance Rate: 0.698\n",
       "Parameter                Mean               2.5%              97.5%\n",
       "t1:                     0.013             -0.699              0.710\n"
      ]
     },
     "execution_count": 9,
     "metadata": {},
     "output_type": "execute_result"
    }
   ],
   "source": [
    "res_v"
   ]
  },
  {
   "cell_type": "code",
   "execution_count": 19,
   "metadata": {},
   "outputs": [
    {
     "data": {
      "text/plain": [
       "<Figure size 800x600 with 0 Axes>"
      ]
     },
     "metadata": {},
     "output_type": "display_data"
    },
    {
     "data": {
      "text/plain": [
       "<Figure size 800x600 with 0 Axes>"
      ]
     },
     "metadata": {},
     "output_type": "display_data"
    }
   ],
   "source": [
    "import numpy as np\n",
    "import matplotlib.pyplot as plt\n",
    "import scipy.stats as stats\n",
    "import elfi.visualization.visualization\n",
    "\n",
    "# Define the number of bins\n",
    "mbins = 30\n",
    "\n",
    "# Extract gamma values from the results\n",
    "gamma_dict = dict(zip(['gamma_{}'.format(index) for index in range(rbsl_m.observed.size)], np.transpose(res_m.outputs['gamma'])))\n",
    "\n",
    "# Set global font size\n",
    "plt.rcParams.update({'font.size': 24})\n",
    "\n",
    "# Plot the marginal distributions\n",
    "for i, (key, values) in enumerate(gamma_dict.items()):\n",
    "    plt.figure(figsize=(8, 6))\n",
    "    \n",
    "    # Plot the posterior distribution as a histogram\n",
    "    plt.hist(values, bins=mbins, density=True, alpha=0.8, color='black', label='Posterior')\n",
    "    \n",
    "    # Plot the prior distribution (Laplace(0, 1))\n",
    "    x = np.linspace(-10, 10, 1000)\n",
    "    prior = stats.laplace.pdf(x, loc=0, scale=1)\n",
    "    plt.plot(x, prior, 'green', linestyle='dashed', lw=3, label='Prior')\n",
    "    \n",
    "    plt.xlim([-10, 10])\n",
    "    plt.xticks([-10, -5, 0, 5, 10])\n",
    "    plt.xlabel(r\"$\\gamma_{}$\".format(str(i+1)))\n",
    "    plt.ylabel('Density')\n",
    "    plt.legend()\n",
    "    plt.tight_layout()\n",
    "    plt.savefig(f\"rbslm_adj_param_{str(i)}.pdf\")\n",
    "    plt.clf()"
   ]
  },
  {
   "cell_type": "code",
   "execution_count": 20,
   "metadata": {},
   "outputs": [
    {
     "data": {
      "text/plain": [
       "<Figure size 800x600 with 0 Axes>"
      ]
     },
     "metadata": {},
     "output_type": "display_data"
    },
    {
     "data": {
      "text/plain": [
       "<Figure size 800x600 with 0 Axes>"
      ]
     },
     "metadata": {},
     "output_type": "display_data"
    }
   ],
   "source": [
    "import numpy as np\n",
    "import matplotlib.pyplot as plt\n",
    "import scipy.stats as stats\n",
    "import elfi.visualization.visualization\n",
    "\n",
    "# Define the number of bins\n",
    "mbins = 30\n",
    "\n",
    "# Extract gamma values from the results\n",
    "gamma_dict = dict(zip(['gamma_{}'.format(index) for index in range(rbsl_v.observed.size)], np.transpose(res_v.outputs['gamma'])))\n",
    "\n",
    "# Set global font size\n",
    "plt.rcParams.update({'font.size': 24})\n",
    "\n",
    "# Plot the marginal distributions\n",
    "for i, (key, values) in enumerate(gamma_dict.items()):\n",
    "    plt.figure(figsize=(8, 6))\n",
    "    \n",
    "    # Plot the posterior distribution as a histogram\n",
    "    plt.hist(values, bins=mbins, density=True, alpha=0.8, color='black', label='Posterior')\n",
    "    \n",
    "    # Plot the prior distribution (Laplace(0, 1))\n",
    "    x = np.linspace(0, 10, 1000)\n",
    "    prior = stats.expon.pdf(x, loc=0, scale=1)\n",
    "    plt.plot(x, prior, 'green', linestyle='dashed', lw=3, label='Prior')\n",
    "    \n",
    "    plt.xlim([0, 10])\n",
    "    plt.xticks([0, 5, 10])\n",
    "    plt.xlabel(r\"$\\gamma_{}$\".format(str(i+1)))\n",
    "    plt.ylabel('Density')\n",
    "    plt.legend()\n",
    "    plt.tight_layout()\n",
    "    plt.savefig(f\"rbslv_adj_param_{str(i)}.pdf\")\n",
    "    plt.clf()"
   ]
  },
  {
   "cell_type": "code",
   "execution_count": 12,
   "metadata": {},
   "outputs": [
    {
     "data": {
      "image/png": "[encoded data removed]",
      "text/plain": [
       "<Figure size 800x400 with 2 Axes>"
      ]
     },
     "metadata": {},
     "output_type": "display_data"
    }
   ],
   "source": [
    "mbins = 30\n",
    "gamma_dict = dict(zip(['gamma_{}'.format(index) for index in range(rbsl_v.observed.size)], np.transpose(res_v.outputs['gamma'])))\n",
    "elfi.visualization.visualization.plot_marginals(gamma_dict, bins=mbins);"
   ]
  },
  {
   "cell_type": "code",
   "execution_count": 23,
   "metadata": {},
   "outputs": [
    {
     "data": {
      "text/plain": [
       "<Figure size 1000x600 with 0 Axes>"
      ]
     },
     "metadata": {},
     "output_type": "display_data"
    }
   ],
   "source": [
    "\n",
    "plt.rcParams.update({'font.size': 24})\n",
    "plt.figure(figsize=(10, 6))  # Set the figure size for better readability\n",
    "plt.hist(t1_samples_rbslm, density=True, bins=30, color='orange', alpha=0.75)  # Histogram with 30 bins\n",
    "plt.xlabel(r'$\\theta$', fontsize=24)  # X-axis label\n",
    "plt.ylabel('Density', fontsize=24)  # Y-axis label\n",
    "# plt.title(\"RBSL-M\", fontsize=24)  # Title\n",
    "# plt.grid(True, which='both', linestyle='--', linewidth=0.5)  # Enable grid with custom settings\n",
    "plt.axvline(x=0, color='black', linestyle='dashed', linewidth=2, label='Pseudo-true θ')  # Mean line\n",
    "# plt.text(np.mean(samples), plt.ylim()[1] * 0.9, 'Mean: {:.2f}'.format(np.mean(samples)), color='red', horizontalalignment='right')  # Text label for mean\n",
    "plt.legend(fontsize=24)  # Add legend\n",
    "plt.xlim([-1, 1])  # Set x-axis limits\n",
    "plt.xticks([-1, - 0, 1])  # Set x-axis ticks\n",
    "plt.yticks([0.0, 0.5, 1.0, 1.5])  # Set y-axis ticks\n",
    "plt.tight_layout()  # Tight layout\n",
    "\n",
    "plt.savefig(\"rbslm.pdf\")  # Save the figure as a PDF\n",
    "plt.clf()  # Clear the figure after saving\n",
    "\n"
   ]
  },
  {
   "cell_type": "code",
   "execution_count": 27,
   "metadata": {},
   "outputs": [
    {
     "data": {
      "text/plain": [
       "<Figure size 1000x600 with 0 Axes>"
      ]
     },
     "metadata": {},
     "output_type": "display_data"
    }
   ],
   "source": [
    "plt.rcParams.update({'font.size': 24})\n",
    "\n",
    "plt.figure(figsize=(10, 6))  # Set the figure size for better readability\n",
    "plt.hist(t1_samples_rbslv, density=True, bins=30, color='green', alpha=0.75)  # Histogram with 30 bins\n",
    "plt.xlabel(r'$\\theta$', fontsize=24)  # X-axis label\n",
    "plt.ylabel('Density', fontsize=24)  # Y-axis label\n",
    "# plt.title(\"RBSL-V\", fontsize=24)  # Title\n",
    "# plt.grid(True, which='both', linestyle='--', linewidth=0.5)  # Enable grid with custom settings\n",
    "plt.axvline(x=0, color='black', linestyle='dashed', linewidth=2, label='Pseudo-true θ')  # Mean line\n",
    "# plt.text(np.mean(samples), plt.ylim()[1] * 0.9, 'Mean: {:.2f}'.format(np.mean(samples)), color='red', horizontalalignment='right')  # Text label for mean\n",
    "plt.legend(fontsize=24)  # Add legend\n",
    "plt.xlim([-1, 1])  # Set x-axis limits\n",
    "plt.xticks([-1, - 0, 1])  # Set x-axis ticks\n",
    "plt.yticks([0.0, 0.5, 1.0, 1.5])  # Set y-axis ticks\n",
    "plt.tight_layout()  # Tight layout\n",
    "plt.savefig(\"rbslv.pdf\")  # Save the figure as a PDF\n",
    "plt.clf()  # Clear the figure after saving\n",
    "\n"
   ]
  },
  {
   "cell_type": "code",
   "execution_count": 15,
   "metadata": {},
   "outputs": [],
   "source": [
    "import pickle as pkl\n",
    "with open(\"thetas.pkl\", \"rb\") as f:\n",
    "    rsnl_thetas = pkl.load(f)"
   ]
  },
  {
   "cell_type": "code",
   "execution_count": 16,
   "metadata": {},
   "outputs": [
    {
     "name": "stdout",
     "output_type": "stream",
     "text": [
      "a\n"
     ]
    },
    {
     "data": {
      "image/png": "[encoded data removed]",
      "text/plain": [
       "<Figure size 1000x600 with 1 Axes>"
      ]
     },
     "metadata": {},
     "output_type": "display_data"
    }
   ],
   "source": [
    "print('a')\n",
    "plt.figure(figsize=(10, 6))  # Set the figure size for better readability\n",
    "\n",
    "\n",
    "# Plot RBSLM\n",
    "_, bins, _ = plt.hist(t1_samples_rbslm, bins=30, color='orange', alpha=0.5, label='RBSLM')\n",
    "\n",
    "# Plot RBSLV\n",
    "plt.hist(t1_samples_rbslv, bins=bins, color='green', alpha=0.5, label='RBSLV')\n",
    "\n",
    "# Plot RSNL\n",
    "plt.hist(rsnl_thetas, bins=bins, color='steelblue', alpha=0.5, label='RSNL')\n",
    "\n",
    "\n",
    "plt.xlabel(r'$\\theta$', fontsize=24)  # X-axis label\n",
    "plt.ylabel('Frequency', fontsize=24)  # Y-axis label\n",
    "# plt.title(\"Comparison of RSNL, RBSLM, and RBSLV\", fontsize=24)  # Title\n",
    "plt.axvline(x=0, color='black', linestyle='dashed', linewidth=2, label='Pseudo-true θ')  # Mean line\n",
    "plt.legend(fontsize=18)  # Add legend\n",
    "plt.savefig(\"comparison_histogram.pdf\")  # Save the figure as a PDF\n",
    "plt.show()  # Show the plot"
   ]
  },
  {
   "cell_type": "code",
   "execution_count": 30,
   "metadata": {},
   "outputs": [
    {
     "data": {
      "text/plain": [
       "<Figure size 800x600 with 0 Axes>"
      ]
     },
     "metadata": {},
     "output_type": "display_data"
    },
    {
     "data": {
      "text/plain": [
       "<Figure size 800x600 with 0 Axes>"
      ]
     },
     "metadata": {},
     "output_type": "display_data"
    }
   ],
   "source": [
    "posterior_samples = t1_samples_rbslm\n",
    "\n",
    "sim_fn = partial(MA1, n_obs=100)\n",
    "\n",
    "plt.rcParams.update({'font.size': 24})\n",
    "\n",
    "# Posterior predictive simulations\n",
    "def b_theta(t):\n",
    "    return np.array([1 + t ** 2, t])\n",
    "\n",
    "t_vals = np.linspace(-1, 1, 101)\n",
    "b_theta_vals = np.array([b_theta(t) for t in t_vals])\n",
    "# Plot the histogram of posterior samples\n",
    "plt.figure(figsize=(8, 6))\n",
    "# plt.hist(posterior_samples, bins=50, density=True, alpha=0.6, color='blue', label='Posterior Samples')\n",
    "\n",
    "# Plot the prior distribution for comparison\n",
    "theta_range = np.linspace(-1, 1, 200)\n",
    "\n",
    "num_posterior_samples = len(posterior_samples)\n",
    "num_pp_samples = 2_000  # Number of posterior predictive samples\n",
    "\n",
    "# Initialize array to store summary statistics\n",
    "posterior_pred_sims = np.empty((num_pp_samples, 2))\n",
    "\n",
    "# Perform posterior predictive simulations\n",
    "for i in range(num_pp_samples):\n",
    "    # key, subkey = random.split(key)\n",
    "    t1 = posterior_samples[i]\n",
    "    y = sim_fn(t1)\n",
    "    posterior_pred_sims[i, 0] = autocov(y, lag=0)\n",
    "    posterior_pred_sims[i, 1] = autocov(y, lag=1)\n",
    "\n",
    "# Plot the joint distribution of summary statistics from posterior predictive simulations\n",
    "plt.figure(figsize=(8, 6))\n",
    "plt.scatter(posterior_pred_sims[:, 1], posterior_pred_sims[:, 0], c='blue', alpha=0.1)\n",
    "\n",
    "# Plot the observed summary statistics\n",
    "plt.scatter(autocov(x_obs, 1),autocov(x_obs, 0), c='black', marker='x', s=100, label='S(y)')\n",
    "\n",
    "# Plot the b_theta function for reference\n",
    "plt.plot(b_theta_vals[:, 1], b_theta_vals[:, 0], color='orange', label=r'$b(\\theta)$', linewidth=4)\n",
    "\n",
    "# Set axis limits and labels\n",
    "plt.xlim(-2.0, 2.0)\n",
    "plt.xticks([-2, 0, 2])\n",
    "plt.ylim(-0.5, 2.5)\n",
    "plt.yticks([-0.5, 1, 2.5])\n",
    "plt.xlabel(r'$\\zeta_1$')\n",
    "plt.ylabel(r'$\\zeta_2$')\n",
    "# plt.title('Posterior Predictive Summary Statistics')\n",
    "plt.legend()\n",
    "plt.tight_layout()\n",
    "plt.savefig(\"figs/rbslm_ppc.pdf\")\n",
    "plt.clf()\n"
   ]
  },
  {
   "cell_type": "code",
   "execution_count": 31,
   "metadata": {},
   "outputs": [
    {
     "data": {
      "text/plain": [
       "<Figure size 800x600 with 0 Axes>"
      ]
     },
     "metadata": {},
     "output_type": "display_data"
    },
    {
     "data": {
      "text/plain": [
       "<Figure size 800x600 with 0 Axes>"
      ]
     },
     "metadata": {},
     "output_type": "display_data"
    }
   ],
   "source": [
    "posterior_samples = t1_samples_rbslv\n",
    "\n",
    "sim_fn = partial(MA1, n_obs=100)\n",
    "\n",
    "plt.rcParams.update({'font.size': 24})\n",
    "\n",
    "# Posterior predictive simulations\n",
    "def b_theta(t):\n",
    "    return np.array([1 + t ** 2, t])\n",
    "\n",
    "t_vals = np.linspace(-1, 1, 101)\n",
    "b_theta_vals = np.array([b_theta(t) for t in t_vals])\n",
    "# Plot the histogram of posterior samples\n",
    "plt.figure(figsize=(8, 6))\n",
    "# plt.hist(posterior_samples, bins=50, density=True, alpha=0.6, color='blue', label='Posterior Samples')\n",
    "\n",
    "# Plot the prior distribution for comparison\n",
    "theta_range = np.linspace(-1, 1, 200)\n",
    "\n",
    "num_posterior_samples = len(posterior_samples)\n",
    "num_pp_samples = 2_000  # Number of posterior predictive samples\n",
    "\n",
    "# Initialize array to store summary statistics\n",
    "posterior_pred_sims = np.empty((num_pp_samples, 2))\n",
    "\n",
    "# Perform posterior predictive simulations\n",
    "for i in range(num_pp_samples):\n",
    "    # key, subkey = random.split(key)\n",
    "    t1 = posterior_samples[i]\n",
    "    y = sim_fn(t1)\n",
    "    posterior_pred_sims[i, 0] = autocov(y, lag=0)\n",
    "    posterior_pred_sims[i, 1] = autocov(y, lag=1)\n",
    "\n",
    "# Plot the joint distribution of summary statistics from posterior predictive simulations\n",
    "plt.figure(figsize=(8, 6))\n",
    "plt.scatter(posterior_pred_sims[:, 1], posterior_pred_sims[:, 0], c='blue', alpha=0.1)\n",
    "\n",
    "# Plot the observed summary statistics\n",
    "plt.scatter(autocov(x_obs, 1),autocov(x_obs, 0), c='black', marker='x', s=100, label='S(y)')\n",
    "\n",
    "# Plot the b_theta function for reference\n",
    "plt.plot(b_theta_vals[:, 1], b_theta_vals[:, 0], color='orange', label=r'$b(\\theta)$', linewidth=4)\n",
    "\n",
    "# Set axis limits and labels\n",
    "plt.xlim(-2.0, 2.0)\n",
    "plt.xticks([-2, 0, 2])\n",
    "plt.ylim(-0.5, 2.5)\n",
    "plt.yticks([-0.5, 1, 2.5])\n",
    "plt.xlabel(r'$\\zeta_1$')\n",
    "plt.ylabel(r'$\\zeta_2$')\n",
    "# plt.title('Posterior Predictive Summary Statistics')\n",
    "plt.legend()\n",
    "plt.tight_layout()\n",
    "plt.savefig(\"figs/rbslv_ppc.pdf\")\n",
    "plt.clf()\n"
   ]
  },
  {
   "cell_type": "code",
   "execution_count": null,
   "metadata": {},
   "outputs": [],
   "source": []
  }
 ],
 "metadata": {
  "kernelspec": {
   "display_name": ".venv",
   "language": "python",
   "name": "python3"
  },
  "language_info": {
   "codemirror_mode": {
    "name": "ipython",
    "version": 3
   },
   "file_extension": ".py",
   "mimetype": "text/x-python",
   "name": "python",
   "nbconvert_exporter": "python",
   "pygments_lexer": "ipython3",
   "version": "3.11.5"
  }
 },
 "nbformat": 4,
 "nbformat_minor": 2
}
